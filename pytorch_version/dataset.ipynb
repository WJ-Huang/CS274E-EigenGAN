{
 "cells": [
  {
   "cell_type": "code",
   "execution_count": 1,
   "metadata": {},
   "outputs": [],
   "source": [
    "import os\n",
    "from PIL import Image"
   ]
  },
  {
   "cell_type": "code",
   "execution_count": 2,
   "metadata": {},
   "outputs": [],
   "source": [
    "IMG_EXTENSIONS = ('.jpg', '.jpeg', '.png', '.ppm', '.bmp', '.pgm', '.tif', '.tiff', '.webp')\n",
    "\n",
    "def infinite_loader(data_loader):\n",
    "    while True:\n",
    "        for batch in data_loader:\n",
    "            yield batch\n",
    "\n",
    "\n",
    "class Dataset:\n",
    "    def __init__(self, root, transform=None):\n",
    "        self.root = root\n",
    "        self.imgs = []\n",
    "        for dir, _, fnames in sorted(os.walk(root, followlinks=True)):\n",
    "            for fname in sorted(fnames):\n",
    "                if fname.lower().endswith(IMG_EXTENSIONS):\n",
    "                    self.imgs.append(os.path.join(dir, fname))\n",
    "\n",
    "        self.transform = transform if transform is not None else lambda x: x\n",
    "\n",
    "    def __getitem__(self, index):\n",
    "        with open(self.imgs[index], 'rb') as f:\n",
    "            img = Image.open(f)\n",
    "            return self.transform(img.convert('RGB'))\n",
    "\n",
    "    def __len__(self):\n",
    "        return len(self.imgs)"
   ]
  }
 ],
 "metadata": {
  "kernelspec": {
   "display_name": "Python 3.8.13 ('PINNs')",
   "language": "python",
   "name": "python3"
  },
  "language_info": {
   "codemirror_mode": {
    "name": "ipython",
    "version": 3
   },
   "file_extension": ".py",
   "mimetype": "text/x-python",
   "name": "python",
   "nbconvert_exporter": "python",
   "pygments_lexer": "ipython3",
   "version": "3.8.13"
  },
  "orig_nbformat": 4,
  "vscode": {
   "interpreter": {
    "hash": "a5651587e625deb4fe86239a16248888bca0533ef8a7ebc9a31b892346d8b21d"
   }
  }
 },
 "nbformat": 4,
 "nbformat_minor": 2
}
