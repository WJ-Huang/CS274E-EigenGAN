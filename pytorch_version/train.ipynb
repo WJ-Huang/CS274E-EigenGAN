{
 "cells": [
  {
   "cell_type": "code",
   "execution_count": 3,
   "metadata": {},
   "outputs": [],
   "source": [
    "import argparse"
   ]
  },
  {
   "cell_type": "code",
   "execution_count": null,
   "metadata": {},
   "outputs": [],
   "source": [
    "parser = argparse.ArgumentParser()\n",
    "##### Determine dataset path here!!\n",
    "parser.add_argument(\"path\", type=str, help=\"path to the dataset\")\n",
    "parser.add_argument(\"--device\", type=str, default=\"cuda: 0\")\n",
    "parser.add_argument(\"--size\", type=int, default=256, help=\"image size\")\n",
    "parser.add_argument(\"--batch\", type=int, default=16, help=\"batch size\")\n",
    "parser.add_argument(\"--lr\", type=float, default=1e-3, help=\"learning rate\")\n",
    "parser.add_argument(\"--epochs\", type=int, default=1e6, help=\"train epochs\")\n",
    "parser.add_argument(\"--num_basis\", type=int, default=6, help=\"subspace dimension for a generator layer\")\n",
    "parser.add_argument(\"--noise_dim\", type=int, default=512, help=\"noise dimension for the input lay of generator\")\n",
    "parser.add_argument(\"--base_channels\", type=int, default=16, help=\"number of base channels for generator/discriminator\")\n",
    "parser.add_argument(\"--max_channels\", type=int, default=512, help=\"maximum number of channels for generator/discriminator\")\n"
   ]
  }
 ],
 "metadata": {
  "kernelspec": {
   "display_name": "Python 3.8.13 ('PINNs')",
   "language": "python",
   "name": "python3"
  },
  "language_info": {
   "codemirror_mode": {
    "name": "ipython",
    "version": 3
   },
   "file_extension": ".py",
   "mimetype": "text/x-python",
   "name": "python",
   "nbconvert_exporter": "python",
   "pygments_lexer": "ipython3",
   "version": "3.8.13"
  },
  "orig_nbformat": 4,
  "vscode": {
   "interpreter": {
    "hash": "a5651587e625deb4fe86239a16248888bca0533ef8a7ebc9a31b892346d8b21d"
   }
  }
 },
 "nbformat": 4,
 "nbformat_minor": 2
}
