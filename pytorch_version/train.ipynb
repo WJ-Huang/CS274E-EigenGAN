{
 "cells": [
  {
   "cell_type": "code",
   "execution_count": 16,
   "metadata": {},
   "outputs": [],
   "source": [
    "import torch\n",
    "import model\n",
    "import loss\n",
    "from torchvision import transforms\n",
    "from torch.utils.data import DataLoader\n",
    "from dataset import Dataset, infinite_loader"
   ]
  },
  {
   "cell_type": "code",
   "execution_count": 17,
   "metadata": {},
   "outputs": [],
   "source": [
    "DATASET_PATH = \"123123121231\"\n",
    "SIZE = 256\n",
    "BATCH = 16\n",
    "LEARNING_RATE = 1e-3\n",
    "STEPS = 1e6\n",
    "NUM_BASIS = 6\n",
    "NOISE_DIM = 512\n",
    "BASE_CHANNELS = 16\n",
    "MAX_CHANNELS = 512\n",
    "R1_PENALTY_COEFFICIENT = 10\n",
    "ORTHOGONAL_REGULERIZATION_COEFFICIENT = 100\n",
    "device = torch.device('cuda:0' if torch.cuda.is_available() else 'cpu')"
   ]
  },
  {
   "cell_type": "code",
   "execution_count": null,
   "metadata": {},
   "outputs": [],
   "source": [
    "generator = model.Generator(\n",
    "    size=SIZE,\n",
    "    num_basis=NUM_BASIS,\n",
    "    noise_dim=NOISE_DIM,\n",
    "    base_channels=BASE_CHANNELS,\n",
    "    max_channels=MAX_CHANNELS\n",
    ").to(device)\n",
    "\n",
    "discriminator = model.Discriminator(\n",
    "    size=SIZE, \n",
    "    base_channels=BASE_CHANNELS,\n",
    "    max_channels=MAX_CHANNELS,\n",
    ").to(device)"
   ]
  },
  {
   "cell_type": "code",
   "execution_count": null,
   "metadata": {},
   "outputs": [],
   "source": [
    "# optimizers\n",
    "g_optim = torch.optim.Adam(\n",
    "    generator.parameters(),\n",
    "    lr=LEARNING_RATE,\n",
    "    betas=(0.5, 0.99),\n",
    ")\n",
    "d_optim = torch.optim.Adam(\n",
    "    discriminator.parameters(),\n",
    "    lr=LEARNING_RATE,\n",
    "    betas=(0.5, 0.99),\n",
    ")"
   ]
  },
  {
   "cell_type": "code",
   "execution_count": null,
   "metadata": {},
   "outputs": [],
   "source": [
    "# losses\n",
    "calculateDLoss, calculateGLoss = loss.calculateHingeLoss()"
   ]
  },
  {
   "cell_type": "code",
   "execution_count": 15,
   "metadata": {},
   "outputs": [],
   "source": [
    "# data\n",
    "transform = transforms.Compose([\n",
    "    transforms.Resize(SIZE),\n",
    "    transforms.CenterCrop(SIZE),\n",
    "    transforms.RandomHorizontalFlip(),\n",
    "    transforms.ToTensor(),\n",
    "    transforms.Normalize((0.5, 0.5, 0.5), (0.5, 0.5, 0.5), inplace=True),\n",
    "])"
   ]
  },
  {
   "cell_type": "code",
   "execution_count": null,
   "metadata": {},
   "outputs": [],
   "source": [
    "dataset = Dataset(DATASET_PATH, transform)\n",
    "loader = infinite_loader(\n",
    "    DataLoader(\n",
    "        dataset,\n",
    "        batch_size=BATCH,\n",
    "        shuffle=True,\n",
    "        drop_last=True\n",
    "    )\n",
    ")"
   ]
  },
  {
   "cell_type": "code",
   "execution_count": null,
   "metadata": {},
   "outputs": [],
   "source": [
    "for step in range(STEPS):\n",
    "\n",
    "    real = next(loader).to(device)\n",
    "    with torch.no_grad():\n",
    "        fake = generator.sample(BATCH)\n",
    "\n",
    "    real_pred = discriminator(real)\n",
    "    fake_pred = discriminator(fake)\n",
    "\n",
    "    # adverserial loss\n",
    "    discriminator_loss = calculateDLoss(real_pred, fake_pred)\n",
    "    discriminator.zero_grad()\n",
    "    discriminator_loss.backward()\n",
    "    d_optim.step()\n",
    "\n",
    "    # R1 penalty\n",
    "    real.requires_grad = True\n",
    "    real_pred = discriminator(real)\n",
    "    r1 = calculateR1Loss(real_pred, real) * R1_PENALTY_COEFFICIENT\n",
    "    discriminator.zero_grad()\n",
    "    r1.backward()\n",
    "    d_optim.step()\n",
    "\n",
    "    fake = generator.sample(BATCH)\n",
    "    fake_pred = discriminator(fake)\n",
    "    generator_loss = calculateGLoss(fake_pred) + generator.regularizeUOrthogonal() * ORTHOGONAL_REGULERIZATION_COEFFICIENT\n",
    "    generator.zero_grad()\n",
    "    generator_loss.backward()\n",
    "    g_optim.step()\n",
    "\n",
    "    print(f'Step: \\t {step}, D_loss:\\t{discriminator_loss.item()}, G_loss:\\t{generator_loss.item()}')"
   ]
  }
 ],
 "metadata": {
  "kernelspec": {
   "display_name": "Python 3.8.10 64-bit",
   "language": "python",
   "name": "python3"
  },
  "language_info": {
   "codemirror_mode": {
    "name": "ipython",
    "version": 3
   },
   "file_extension": ".py",
   "mimetype": "text/x-python",
   "name": "python",
   "nbconvert_exporter": "python",
   "pygments_lexer": "ipython3",
   "version": "3.8.10"
  },
  "orig_nbformat": 4,
  "vscode": {
   "interpreter": {
    "hash": "916dbcbb3f70747c44a77c7bcd40155683ae19c65e1c03b4aa3499c5328201f1"
   }
  }
 },
 "nbformat": 4,
 "nbformat_minor": 2
}
