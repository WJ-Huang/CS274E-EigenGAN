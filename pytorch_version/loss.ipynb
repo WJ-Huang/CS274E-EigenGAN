{
 "cells": [
  {
   "cell_type": "code",
   "execution_count": 2,
   "metadata": {},
   "outputs": [],
   "source": [
    "import torch\n",
    "import torch.nn.functional as F"
   ]
  },
  {
   "cell_type": "code",
   "execution_count": null,
   "metadata": {},
   "outputs": [],
   "source": [
    "def calculateHingeLoss():\n",
    "\n",
    "    def calculateDLoss(real_pred, fake_pred):\n",
    "        return F.relu(1 - real_pred).mean(), F.relu(1 + fake_pred).mean()\n",
    "\n",
    "    def calculateGLoss(fake_pred):\n",
    "        return F.relu(1 - fake_pred).mean()\n",
    "\n",
    "    return calculateDLoss, calculateGLoss"
   ]
  }
 ],
 "metadata": {
  "kernelspec": {
   "display_name": "Python 3.8.13 ('PINNs')",
   "language": "python",
   "name": "python3"
  },
  "language_info": {
   "codemirror_mode": {
    "name": "ipython",
    "version": 3
   },
   "file_extension": ".py",
   "mimetype": "text/x-python",
   "name": "python",
   "nbconvert_exporter": "python",
   "pygments_lexer": "ipython3",
   "version": "3.8.13"
  },
  "orig_nbformat": 4,
  "vscode": {
   "interpreter": {
    "hash": "a5651587e625deb4fe86239a16248888bca0533ef8a7ebc9a31b892346d8b21d"
   }
  }
 },
 "nbformat": 4,
 "nbformat_minor": 2
}
